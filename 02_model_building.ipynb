{
 "cells": [
  {
   "cell_type": "code",
   "execution_count": 2,
   "metadata": {},
   "outputs": [
    {
     "ename": "NameError",
     "evalue": "name 'df' is not defined",
     "output_type": "error",
     "traceback": [
      "\u001b[0;31m---------------------------------------------------------------------------\u001b[0m",
      "\u001b[0;31mNameError\u001b[0m                                 Traceback (most recent call last)",
      "\u001b[1;32m/Users/muiz/Desktop/netflix movie recommender /02_model_building.ipynb Cell 1\u001b[0m line \u001b[0;36m6\n\u001b[1;32m      <a href='vscode-notebook-cell:/Users/muiz/Desktop/netflix%20movie%20recommender%20/02_model_building.ipynb#W0sZmlsZQ%3D%3D?line=3'>4</a>\u001b[0m \u001b[39m# TF-IDF Vectorizer\u001b[39;00m\n\u001b[1;32m      <a href='vscode-notebook-cell:/Users/muiz/Desktop/netflix%20movie%20recommender%20/02_model_building.ipynb#W0sZmlsZQ%3D%3D?line=4'>5</a>\u001b[0m tfidf \u001b[39m=\u001b[39m TfidfVectorizer(stop_words\u001b[39m=\u001b[39m\u001b[39m'\u001b[39m\u001b[39menglish\u001b[39m\u001b[39m'\u001b[39m)\n\u001b[0;32m----> <a href='vscode-notebook-cell:/Users/muiz/Desktop/netflix%20movie%20recommender%20/02_model_building.ipynb#W0sZmlsZQ%3D%3D?line=5'>6</a>\u001b[0m tfidf_matrix \u001b[39m=\u001b[39m tfidf\u001b[39m.\u001b[39mfit_transform(df[\u001b[39m'\u001b[39m\u001b[39mcombined\u001b[39m\u001b[39m'\u001b[39m])\n\u001b[1;32m      <a href='vscode-notebook-cell:/Users/muiz/Desktop/netflix%20movie%20recommender%20/02_model_building.ipynb#W0sZmlsZQ%3D%3D?line=7'>8</a>\u001b[0m \u001b[39m# Cosine similarity matrix\u001b[39;00m\n\u001b[1;32m      <a href='vscode-notebook-cell:/Users/muiz/Desktop/netflix%20movie%20recommender%20/02_model_building.ipynb#W0sZmlsZQ%3D%3D?line=8'>9</a>\u001b[0m cosine_sim \u001b[39m=\u001b[39m cosine_similarity(tfidf_matrix, tfidf_matrix)\n",
      "\u001b[0;31mNameError\u001b[0m: name 'df' is not defined"
     ]
    }
   ],
   "source": [
    "from sklearn.feature_extraction.text import TfidfVectorizer\n",
    "from sklearn.metrics.pairwise import cosine_similarity\n",
    "\n",
    "# TF-IDF Vectorizer\n",
    "tfidf = TfidfVectorizer(stop_words='english')\n",
    "tfidf_matrix = tfidf.fit_transform(df['combined'])\n",
    "\n",
    "# Cosine similarity matrix\n",
    "cosine_sim = cosine_similarity(tfidf_matrix, tfidf_matrix)\n"
   ]
  }
 ],
 "metadata": {
  "kernelspec": {
   "display_name": "Python (your_env_name)",
   "language": "python",
   "name": "your_env_name"
  },
  "language_info": {
   "codemirror_mode": {
    "name": "ipython",
    "version": 3
   },
   "file_extension": ".py",
   "mimetype": "text/x-python",
   "name": "python",
   "nbconvert_exporter": "python",
   "pygments_lexer": "ipython3",
   "version": "3.12.2"
  }
 },
 "nbformat": 4,
 "nbformat_minor": 2
}
